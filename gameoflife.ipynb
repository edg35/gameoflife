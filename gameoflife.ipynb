{
 "cells": [
  {
   "cell_type": "markdown",
   "metadata": {},
   "source": [
    "### Phase #1\n",
    "\n",
    "#### NumPy grid initialization\n",
    "\n",
    "- should be able to either take in a users defined grid size, and or generate a random grid if the user doesnt provide a size\n",
    "- Ensure that the user puts int a propper sized grid, ie one that isnt super small or really big\n",
    "- also make sure the randomly generated grid also meets specific size requirements as well\n"
   ]
  },
  {
   "cell_type": "code",
   "execution_count": null,
   "metadata": {},
   "outputs": [],
   "source": [
    "import numpy as np\n",
    "import matplotlib as plt\n",
    "import matplotlib.animation as animation"
   ]
  },
  {
   "cell_type": "code",
   "execution_count": null,
   "metadata": {},
   "outputs": [],
   "source": [
    "def initialize_grid(rows: int, cols: int, randomize: bool = True) -> np.ndarray:\n",
    "    '''\n",
    "        Inputs:\n",
    "        rows: Number of rows in the grid.\n",
    "        cols: Number of columns in the grid.\n",
    "        randomize: If True, fill the grid with random 0s and 1s; otherwise, create a grid of zeros.\n",
    "        Output: A 2D NumPy array representing the initial grid.\n",
    "    '''\n",
    "    pass"
   ]
  },
  {
   "cell_type": "code",
   "execution_count": null,
   "metadata": {},
   "outputs": [],
   "source": [
    "def set_pattern(grid: np.ndarray, pattern: np.ndarray, top_left: tuple) -> np.ndarray:\n",
    "    '''\n",
    "        Inputs:\n",
    "        grid: The main grid to modify.\n",
    "        pattern: A smaller 2D array representing a user-defined pattern (e.g., a glider or block).\n",
    "        top_left: A tuple (row, col) specifying the top-left corner where the pattern should be placed.\n",
    "        Output: A 2D NumPy array with the pattern embedded.\n",
    "    '''\n",
    "    pass"
   ]
  },
  {
   "cell_type": "code",
   "execution_count": null,
   "metadata": {},
   "outputs": [],
   "source": [
    "def get_preset_patterns() -> dict:\n",
    "    patterns = {\n",
    "        \"block\": np.array([[1, 1],\n",
    "                           [1, 1]]),\n",
    "        \"blinker\": np.array([[0, 1, 0],\n",
    "                             [0, 1, 0],\n",
    "                             [0, 1, 0]]),\n",
    "        \"glider\": np.array([[0, 1, 0],\n",
    "                            [0, 0, 1],\n",
    "                            [1, 1, 1]])\n",
    "    }\n",
    "    return patterns"
   ]
  },
  {
   "cell_type": "code",
   "execution_count": null,
   "metadata": {},
   "outputs": [],
   "source": [
    "def choose_grid_size() -> tuple:\n",
    "    '''\n",
    "        Inputs: None (direct user input via a notebook cell or Python's input() function).\n",
    "        Output: A tuple (rows, cols) representing the grid dimensions.\n",
    "    '''\n",
    "    pass"
   ]
  },
  {
   "cell_type": "code",
   "execution_count": null,
   "metadata": {},
   "outputs": [],
   "source": [
    "if __name__ == \"__main__\":\n",
    "    '''\n",
    "        Get grid size from the user.\n",
    "        Ask whether to randomize or use a specific pattern.\n",
    "        Allow users to select a pattern and place it on the grid if not randomizing.\n",
    "    '''\n",
    "    pass"
   ]
  },
  {
   "cell_type": "markdown",
   "metadata": {},
   "source": [
    "### Phase #2\n",
    "\n",
    "#### Implement Game Logic\n",
    "\n",
    "- again, we need to have a base case if a user does not enter custom rules, which will be the basic game\n",
    "- we need to do input checks to make sure the user doesnt put in and incorrect inputs\n",
    "\n",
    "**Basic Rules**\n",
    "\n",
    "1. Any live cell with two or three live neighbors survives.\n",
    "2. Any dead cell with exactly three live neighbors becomes alive.\n",
    "3. All other live cells die, and all other dead cells remain dead.\n"
   ]
  },
  {
   "cell_type": "code",
   "execution_count": null,
   "metadata": {},
   "outputs": [],
   "source": [
    "def count_neighbors(grid: np.ndarray, row: int, col: int) -> int:\n",
    "    '''\n",
    "        Inputs:\n",
    "        grid: A 2D NumPy array representing the grid.\n",
    "        row: Row index of the target cell.\n",
    "        col: Column index of the target cell.\n",
    "        Output: The number of live neighbors (integer).\n",
    "    '''\n",
    "    pass"
   ]
  },
  {
   "cell_type": "code",
   "execution_count": null,
   "metadata": {},
   "outputs": [],
   "source": [
    "def apply_rules(grid: np.ndarray) -> np.ndarray:\n",
    "    '''\n",
    "        Inputs:\n",
    "        grid: A 2D NumPy array representing the current state of the grid.\n",
    "        Output: A 2D NumPy array representing the updated grid.\n",
    "    '''\n",
    "    pass"
   ]
  },
  {
   "cell_type": "code",
   "execution_count": null,
   "metadata": {},
   "outputs": [],
   "source": [
    "def custom_rules(grid: np.ndarray, rule_func) -> np.ndarray:\n",
    "    '''\n",
    "        Inputs:\n",
    "        grid: A 2D NumPy array representing the current state of the grid.\n",
    "        rule_func: A function provided by the user that defines the update rules. The function should take (grid, row, col) as inputs and return 0 or 1 (new state of the cell).\n",
    "        Output: A 2D NumPy array representing the updated grid.\n",
    "    '''\n",
    "    pass"
   ]
  },
  {
   "cell_type": "code",
   "execution_count": null,
   "metadata": {},
   "outputs": [],
   "source": [
    "def simulate_game(grid: np.ndarray, steps: int, custom: bool = False, rule_func=None) -> np.ndarray:\n",
    "    '''\n",
    "        Inputs:\n",
    "        grid: The initial grid.\n",
    "        steps: Number of iterations to simulate.\n",
    "        custom: Whether to use custom rules. If True, rule_func must be provided.\n",
    "        rule_func: The custom rule function, if applicable.\n",
    "        Output: The grid after the specified number of steps.\n",
    "    '''\n",
    "    pass"
   ]
  },
  {
   "cell_type": "code",
   "execution_count": null,
   "metadata": {},
   "outputs": [],
   "source": [
    "def main_game_logic(grid: np.ndarray, steps: int):\n",
    "    '''\n",
    "        Initialize the grid (can use Phase 1s initialize_grid).\n",
    "        Ask the user whether to use standard rules or custom rules.\n",
    "        Simulate the grid for a user-specified number of steps.\n",
    "        Display the grid after simulation.\n",
    "    '''\n",
    "    pass"
   ]
  },
  {
   "cell_type": "markdown",
   "metadata": {},
   "source": [
    "### Phase #3\n",
    "\n",
    "#### Visualization and Interactivity\n",
    "\n",
    "- Use Matplotlib to display the grid and animate the evolution over time\n",
    "- Create a function to render the grid state as an image and update it dynamically\n",
    "\n",
    "**Interactivity**\n",
    "\n",
    "1. Start/stop the simulation.\n",
    "2. Adjust simulation speed.\n",
    "3. Reset or randomize the grid.\n"
   ]
  },
  {
   "cell_type": "code",
   "execution_count": null,
   "metadata": {},
   "outputs": [],
   "source": [
    "def update_frame(frame, grid, ax, steps):\n",
    "    '''\n",
    "        Inputs:\n",
    "        frame: Current frame number.\n",
    "        grid: Current state of the grid.\n",
    "        ax: Matplotlib axis object for rendering.\n",
    "        steps: Total number of frames/steps in the animation.\n",
    "        Output: Updated grid to be displayed in the next frame.\n",
    "    '''\n",
    "    pass"
   ]
  },
  {
   "cell_type": "code",
   "execution_count": null,
   "metadata": {},
   "outputs": [],
   "source": [
    "def animate_game(grid: np.ndarray, steps: int, interval: int = 200):\n",
    "    '''\n",
    "        Inputs:\n",
    "        grid: Initial grid.\n",
    "        steps: Number of steps to simulate.\n",
    "        interval: Delay between frames in milliseconds.\n",
    "        Output: A rendered animation.\n",
    "    '''\n",
    "    pass"
   ]
  },
  {
   "cell_type": "code",
   "execution_count": null,
   "metadata": {},
   "outputs": [],
   "source": [
    "def main_animation_logic(grid: np.ndarray):\n",
    "    '''\n",
    "        Steps:\n",
    "        Prompt the user for animation details (e.g., steps, interval).\n",
    "        Animate the game using animate_game.\n",
    "    '''"
   ]
  },
  {
   "cell_type": "markdown",
   "metadata": {},
   "source": [
    "### Phase #4\n",
    "\n",
    "#### Enhance interactivity for defining custom rules, patterns, and configurations.\n"
   ]
  },
  {
   "cell_type": "code",
   "execution_count": null,
   "metadata": {},
   "outputs": [],
   "source": [
    "def get_custom_rule():\n",
    "    '''\n",
    "        Allows the user to define a custom rule function interactively.\n",
    "        Output: A Python function implementing the rule.\n",
    "    '''\n",
    "    pass"
   ]
  },
  {
   "cell_type": "code",
   "execution_count": null,
   "metadata": {},
   "outputs": [],
   "source": [
    "def choose_simulation_type() -> bool:\n",
    "    '''\n",
    "        Prompts the user to choose between standard and custom rules.\n",
    "        Output: True for custom rules, False for standard rules.\n",
    "    '''\n",
    "    pass"
   ]
  },
  {
   "cell_type": "code",
   "execution_count": null,
   "metadata": {},
   "outputs": [],
   "source": [
    "def run_full_simulation():\n",
    "    '''\n",
    "        Steps:\n",
    "        Initialize the grid (Phase 1).\n",
    "        Choose rules and run the game logic (Phase 2).\n",
    "        Animate the results (Phase 3).\n",
    "        Output: Displays the final animation.\n",
    "    '''\n",
    "    pass"
   ]
  }
 ],
 "metadata": {
  "kernelspec": {
   "display_name": "Python 3",
   "language": "python",
   "name": "python3"
  },
  "language_info": {
   "codemirror_mode": {
    "name": "ipython",
    "version": 3
   },
   "file_extension": ".py",
   "mimetype": "text/x-python",
   "name": "python",
   "nbconvert_exporter": "python",
   "pygments_lexer": "ipython3",
   "version": "3.11.7"
  }
 },
 "nbformat": 4,
 "nbformat_minor": 2
}
